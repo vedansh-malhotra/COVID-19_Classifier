{
 "cells": [
  {
   "cell_type": "code",
   "execution_count": 5,
   "metadata": {},
   "outputs": [],
   "source": [
    "import numpy as np\n",
    "from datascience import *"
   ]
  },
  {
   "cell_type": "code",
   "execution_count": 6,
   "metadata": {},
   "outputs": [],
   "source": [
    "### COVID-19 PREDICTION TOOL ###\n",
    "### Developer: Vedansh Malhotra ###\n",
    "### Sources: CSV file taken from https://github.com/nshomron/covidpred/blob/master/data/corona_tested_individuals_ver_006.english.csv.zip ###\n",
    "###          CSV file originally sourced from: https://data.gov.il/dataset/covid-19 ###\n",
    "#--------------------------------------------------------------------------------------------------------------------------------------------#\n",
    "\n",
    "# To classify a person, create a cell at the bottom of the notebook and run classify(<information list>) #\n",
    "# The information list is a list containing 0s and 1s, corresponding to No/ Yes, in the following order: #\n",
    "\n",
    "# cough || fever || sore_throat || shortness_of_breath || head_ache || age_60_and_above || sex(1: Male, 0: Female) #\n",
    "\n",
    "# For instance, if a female under the age of 60 has cough, sore throat, and head ache, they would be classified using: #\n",
    "# classify([1, 0, 1, 0, 1, 0, 0]) #"
   ]
  },
  {
   "cell_type": "code",
   "execution_count": 7,
   "metadata": {},
   "outputs": [
    {
     "output_type": "display_data",
     "data": {
      "text/plain": "<IPython.core.display.HTML object>",
      "text/html": "<table border=\"1\" class=\"dataframe\">\n    <thead>\n        <tr>\n            <th>test_date</th> <th>cough</th> <th>fever</th> <th>sore_throat</th> <th>shortness_of_breath</th> <th>head_ache</th> <th>corona_result</th> <th>age_60_and_above</th> <th>gender</th> <th>test_indication</th>\n        </tr>\n    </thead>\n    <tbody>\n        <tr>\n            <td>2020-04-30</td> <td>0    </td> <td>0    </td> <td>0          </td> <td>0                  </td> <td>0        </td> <td>negative     </td> <td>None            </td> <td>female</td> <td>Other                 </td>\n        </tr>\n        <tr>\n            <td>2020-04-30</td> <td>1    </td> <td>0    </td> <td>0          </td> <td>0                  </td> <td>0        </td> <td>negative     </td> <td>None            </td> <td>female</td> <td>Other                 </td>\n        </tr>\n        <tr>\n            <td>2020-04-30</td> <td>0    </td> <td>1    </td> <td>0          </td> <td>0                  </td> <td>0        </td> <td>negative     </td> <td>None            </td> <td>male  </td> <td>Other                 </td>\n        </tr>\n        <tr>\n            <td>2020-04-30</td> <td>1    </td> <td>0    </td> <td>0          </td> <td>0                  </td> <td>0        </td> <td>negative     </td> <td>None            </td> <td>female</td> <td>Other                 </td>\n        </tr>\n        <tr>\n            <td>2020-04-30</td> <td>1    </td> <td>0    </td> <td>0          </td> <td>0                  </td> <td>0        </td> <td>negative     </td> <td>None            </td> <td>male  </td> <td>Other                 </td>\n        </tr>\n        <tr>\n            <td>2020-04-30</td> <td>1    </td> <td>0    </td> <td>0          </td> <td>0                  </td> <td>0        </td> <td>negative     </td> <td>None            </td> <td>female</td> <td>Other                 </td>\n        </tr>\n        <tr>\n            <td>2020-04-30</td> <td>1    </td> <td>1    </td> <td>0          </td> <td>0                  </td> <td>0        </td> <td>negative     </td> <td>None            </td> <td>male  </td> <td>Abroad                </td>\n        </tr>\n        <tr>\n            <td>2020-04-30</td> <td>0    </td> <td>0    </td> <td>0          </td> <td>0                  </td> <td>0        </td> <td>negative     </td> <td>None            </td> <td>female</td> <td>Other                 </td>\n        </tr>\n        <tr>\n            <td>2020-04-30</td> <td>0    </td> <td>0    </td> <td>0          </td> <td>0                  </td> <td>0        </td> <td>negative     </td> <td>None            </td> <td>male  </td> <td>Other                 </td>\n        </tr>\n        <tr>\n            <td>2020-04-30</td> <td>0    </td> <td>0    </td> <td>0          </td> <td>0                  </td> <td>0        </td> <td>negative     </td> <td>None            </td> <td>male  </td> <td>Contact with confirmed</td>\n        </tr>\n    </tbody>\n</table>\n<p>... (278838 rows omitted)</p>"
     },
     "metadata": {}
    }
   ],
   "source": [
    "# CSV file containing test-results is converted to a table. #\n",
    "\n",
    "raw_data = Table.read_table(\"COVID_DataSet.csv\")\n",
    "raw_data.show(10)"
   ]
  },
  {
   "cell_type": "code",
   "execution_count": 8,
   "metadata": {},
   "outputs": [
    {
     "output_type": "display_data",
     "data": {
      "text/plain": "<IPython.core.display.HTML object>",
      "text/html": "<table border=\"1\" class=\"dataframe\">\n    <thead>\n        <tr>\n            <th>cough</th> <th>fever</th> <th>sore_throat</th> <th>shortness_of_breath</th> <th>head_ache</th> <th>corona_result</th> <th>age_60_and_above</th> <th>gender</th>\n        </tr>\n    </thead>\n    <tbody>\n        <tr>\n            <td>0    </td> <td>0    </td> <td>0          </td> <td>0                  </td> <td>0        </td> <td>negative     </td> <td>None            </td> <td>female</td>\n        </tr>\n        <tr>\n            <td>1    </td> <td>0    </td> <td>0          </td> <td>0                  </td> <td>0        </td> <td>negative     </td> <td>None            </td> <td>female</td>\n        </tr>\n        <tr>\n            <td>0    </td> <td>1    </td> <td>0          </td> <td>0                  </td> <td>0        </td> <td>negative     </td> <td>None            </td> <td>male  </td>\n        </tr>\n        <tr>\n            <td>1    </td> <td>0    </td> <td>0          </td> <td>0                  </td> <td>0        </td> <td>negative     </td> <td>None            </td> <td>female</td>\n        </tr>\n        <tr>\n            <td>1    </td> <td>0    </td> <td>0          </td> <td>0                  </td> <td>0        </td> <td>negative     </td> <td>None            </td> <td>male  </td>\n        </tr>\n        <tr>\n            <td>1    </td> <td>0    </td> <td>0          </td> <td>0                  </td> <td>0        </td> <td>negative     </td> <td>None            </td> <td>female</td>\n        </tr>\n        <tr>\n            <td>1    </td> <td>1    </td> <td>0          </td> <td>0                  </td> <td>0        </td> <td>negative     </td> <td>None            </td> <td>male  </td>\n        </tr>\n        <tr>\n            <td>0    </td> <td>0    </td> <td>0          </td> <td>0                  </td> <td>0        </td> <td>negative     </td> <td>None            </td> <td>female</td>\n        </tr>\n        <tr>\n            <td>0    </td> <td>0    </td> <td>0          </td> <td>0                  </td> <td>0        </td> <td>negative     </td> <td>None            </td> <td>male  </td>\n        </tr>\n        <tr>\n            <td>0    </td> <td>0    </td> <td>0          </td> <td>0                  </td> <td>0        </td> <td>negative     </td> <td>None            </td> <td>male  </td>\n        </tr>\n    </tbody>\n</table>\n<p>... (278838 rows omitted)</p>"
     },
     "metadata": {}
    }
   ],
   "source": [
    "# Unnecessary columns are first dropped. #\n",
    "filtered = raw_data.drop(\"test_date\", \"test_indication\")\n",
    "filtered.show(10)"
   ]
  },
  {
   "cell_type": "code",
   "execution_count": 9,
   "metadata": {},
   "outputs": [
    {
     "output_type": "display_data",
     "data": {
      "text/plain": "<IPython.core.display.HTML object>",
      "text/html": "<table border=\"1\" class=\"dataframe\">\n    <thead>\n        <tr>\n            <th>cough</th> <th>fever</th> <th>sore_throat</th> <th>shortness_of_breath</th> <th>head_ache</th> <th>corona_result</th> <th>age_60_and_above</th> <th>gender</th>\n        </tr>\n    </thead>\n    <tbody>\n        <tr>\n            <td>0    </td> <td>0    </td> <td>0          </td> <td>0                  </td> <td>0        </td> <td>negative     </td> <td>None            </td> <td>male  </td>\n        </tr>\n        <tr>\n            <td>0    </td> <td>0    </td> <td>0          </td> <td>0                  </td> <td>0        </td> <td>negative     </td> <td>No              </td> <td>male  </td>\n        </tr>\n        <tr>\n            <td>0    </td> <td>0    </td> <td>0          </td> <td>0                  </td> <td>0        </td> <td>negative     </td> <td>None            </td> <td>female</td>\n        </tr>\n        <tr>\n            <td>0    </td> <td>0    </td> <td>0          </td> <td>0                  </td> <td>0        </td> <td>negative     </td> <td>No              </td> <td>male  </td>\n        </tr>\n        <tr>\n            <td>1    </td> <td>0    </td> <td>0          </td> <td>0                  </td> <td>0        </td> <td>negative     </td> <td>No              </td> <td>female</td>\n        </tr>\n        <tr>\n            <td>0    </td> <td>0    </td> <td>0          </td> <td>0                  </td> <td>0        </td> <td>negative     </td> <td>Yes             </td> <td>None  </td>\n        </tr>\n        <tr>\n            <td>0    </td> <td>1    </td> <td>0          </td> <td>0                  </td> <td>0        </td> <td>negative     </td> <td>None            </td> <td>male  </td>\n        </tr>\n        <tr>\n            <td>0    </td> <td>0    </td> <td>0          </td> <td>0                  </td> <td>0        </td> <td>negative     </td> <td>None            </td> <td>male  </td>\n        </tr>\n        <tr>\n            <td>1    </td> <td>1    </td> <td>0          </td> <td>0                  </td> <td>0        </td> <td>negative     </td> <td>No              </td> <td>female</td>\n        </tr>\n        <tr>\n            <td>1    </td> <td>0    </td> <td>0          </td> <td>0                  </td> <td>0        </td> <td>negative     </td> <td>None            </td> <td>female</td>\n        </tr>\n    </tbody>\n</table>\n<p>... (278838 rows omitted)</p>"
     },
     "metadata": {}
    }
   ],
   "source": [
    "# The data are now randomly shuffled precautionarily, to remove potential systematic ordering. #\n",
    "shuffled = filtered.sample(with_replacement=False)\n",
    "shuffled.show(10)"
   ]
  },
  {
   "cell_type": "code",
   "execution_count": 10,
   "metadata": {},
   "outputs": [],
   "source": [
    "# 50,000 data points are initially chosen to train the classifier #\n",
    "shortened = shuffled.take(range(50000))"
   ]
  },
  {
   "cell_type": "code",
   "execution_count": 11,
   "metadata": {},
   "outputs": [
    {
     "output_type": "display_data",
     "data": {
      "text/plain": "<IPython.core.display.HTML object>",
      "text/html": "<table border=\"1\" class=\"dataframe\">\n    <thead>\n        <tr>\n            <th>cough</th> <th>fever</th> <th>sore_throat</th> <th>shortness_of_breath</th> <th>head_ache</th> <th>corona_result</th> <th>age_60_and_above</th> <th>gender</th>\n        </tr>\n    </thead>\n    <tbody>\n        <tr>\n            <td>0    </td> <td>0    </td> <td>0          </td> <td>0                  </td> <td>0        </td> <td>negative     </td> <td>No              </td> <td>male  </td>\n        </tr>\n        <tr>\n            <td>0    </td> <td>0    </td> <td>0          </td> <td>0                  </td> <td>0        </td> <td>negative     </td> <td>No              </td> <td>male  </td>\n        </tr>\n        <tr>\n            <td>1    </td> <td>0    </td> <td>0          </td> <td>0                  </td> <td>0        </td> <td>negative     </td> <td>No              </td> <td>female</td>\n        </tr>\n        <tr>\n            <td>1    </td> <td>1    </td> <td>0          </td> <td>0                  </td> <td>0        </td> <td>negative     </td> <td>No              </td> <td>female</td>\n        </tr>\n        <tr>\n            <td>0    </td> <td>0    </td> <td>0          </td> <td>0                  </td> <td>0        </td> <td>negative     </td> <td>No              </td> <td>female</td>\n        </tr>\n        <tr>\n            <td>1    </td> <td>1    </td> <td>1          </td> <td>0                  </td> <td>1        </td> <td>positive     </td> <td>No              </td> <td>female</td>\n        </tr>\n        <tr>\n            <td>0    </td> <td>0    </td> <td>0          </td> <td>0                  </td> <td>0        </td> <td>negative     </td> <td>No              </td> <td>male  </td>\n        </tr>\n        <tr>\n            <td>0    </td> <td>0    </td> <td>0          </td> <td>0                  </td> <td>0        </td> <td>negative     </td> <td>No              </td> <td>male  </td>\n        </tr>\n        <tr>\n            <td>1    </td> <td>0    </td> <td>0          </td> <td>0                  </td> <td>1        </td> <td>positive     </td> <td>No              </td> <td>female</td>\n        </tr>\n        <tr>\n            <td>0    </td> <td>0    </td> <td>0          </td> <td>0                  </td> <td>0        </td> <td>negative     </td> <td>No              </td> <td>male  </td>\n        </tr>\n    </tbody>\n</table>\n<p>... (24483 rows omitted)</p>"
     },
     "metadata": {}
    }
   ],
   "source": [
    "# Some data points have illegible values such as 'None' or 'Nan', these are filtered out. #\n",
    "\n",
    "clean = shortened.where(\"age_60_and_above\", are.contained_in([\"No\", \"Yes\"]))\n",
    "clean = clean.where(\"corona_result\", are.contained_in([\"positive\", \"negative\"]))\n",
    "clean = clean.where(\"gender\", are.contained_in([\"female\", \"male\"]))\n",
    "clean = clean.where(\"cough\", are.contained_in([\"0\", \"1\"]))\n",
    "clean = clean.where(\"fever\", are.contained_in([\"0\", \"1\"]))\n",
    "clean = clean.where(\"sore_throat\", are.contained_in([\"0\", \"1\"]))\n",
    "clean = clean.where(\"shortness_of_breath\", are.contained_in([\"0\", \"1\"]))\n",
    "clean = clean.where(\"head_ache\", are.contained_in([\"0\", \"1\"]))\n",
    "\n",
    "clean.show(10)"
   ]
  },
  {
   "cell_type": "code",
   "execution_count": 12,
   "metadata": {},
   "outputs": [
    {
     "output_type": "display_data",
     "data": {
      "text/plain": "<IPython.core.display.HTML object>",
      "text/html": "<table border=\"1\" class=\"dataframe\">\n    <thead>\n        <tr>\n            <th>cough</th> <th>fever</th> <th>sore_throat</th> <th>shortness_of_breath</th> <th>head_ache</th> <th>corona_result</th> <th>age_60_and_above</th> <th>sex</th>\n        </tr>\n    </thead>\n    <tbody>\n        <tr>\n            <td>0    </td> <td>0    </td> <td>0          </td> <td>0                  </td> <td>0        </td> <td>0            </td> <td>0               </td> <td>1   </td>\n        </tr>\n        <tr>\n            <td>0    </td> <td>0    </td> <td>0          </td> <td>0                  </td> <td>0        </td> <td>0            </td> <td>0               </td> <td>1   </td>\n        </tr>\n        <tr>\n            <td>1    </td> <td>0    </td> <td>0          </td> <td>0                  </td> <td>0        </td> <td>0            </td> <td>0               </td> <td>0   </td>\n        </tr>\n        <tr>\n            <td>1    </td> <td>1    </td> <td>0          </td> <td>0                  </td> <td>0        </td> <td>0            </td> <td>0               </td> <td>0   </td>\n        </tr>\n        <tr>\n            <td>0    </td> <td>0    </td> <td>0          </td> <td>0                  </td> <td>0        </td> <td>0            </td> <td>0               </td> <td>0   </td>\n        </tr>\n        <tr>\n            <td>1    </td> <td>1    </td> <td>1          </td> <td>0                  </td> <td>1        </td> <td>1            </td> <td>0               </td> <td>0   </td>\n        </tr>\n        <tr>\n            <td>0    </td> <td>0    </td> <td>0          </td> <td>0                  </td> <td>0        </td> <td>0            </td> <td>0               </td> <td>1   </td>\n        </tr>\n        <tr>\n            <td>0    </td> <td>0    </td> <td>0          </td> <td>0                  </td> <td>0        </td> <td>0            </td> <td>0               </td> <td>1   </td>\n        </tr>\n        <tr>\n            <td>1    </td> <td>0    </td> <td>0          </td> <td>0                  </td> <td>1        </td> <td>1            </td> <td>0               </td> <td>0   </td>\n        </tr>\n        <tr>\n            <td>0    </td> <td>0    </td> <td>0          </td> <td>0                  </td> <td>0        </td> <td>0            </td> <td>0               </td> <td>1   </td>\n        </tr>\n    </tbody>\n</table>\n<p>... (24483 rows omitted)</p>"
     },
     "metadata": {}
    }
   ],
   "source": [
    "# To compute distances between various members of the population in the data sets, categorical values are converted to numerical. #\n",
    "\n",
    "mapping_dict = {\n",
    "    \"negative\" : 0,\n",
    "    \"positive\" : 1,\n",
    "    \"No\" : 0,\n",
    "    \"Yes\" : 1,\n",
    "    \"female\" : 0,\n",
    "    \"male\" : 1\n",
    "}\n",
    "ages = np.array(clean.column(\"age_60_and_above\"))\n",
    "test_results = np.array(clean.column(\"corona_result\"))\n",
    "sexes = np.array(clean.column(\"gender\"))\n",
    "for i in range(clean.num_rows):\n",
    "    ages[i] = mapping_dict[ages[i]]\n",
    "    test_results[i] = mapping_dict[test_results[i]]\n",
    "    sexes[i] = mapping_dict[sexes[i]]\n",
    "\n",
    "clean = clean.with_columns(\"corona_result\", test_results, \"age_60_and_above\", ages, \"sex\", sexes).drop('gender')\n",
    "# Note that the term gender has been changed to sex\n",
    "clean.show(10)"
   ]
  },
  {
   "cell_type": "code",
   "execution_count": 39,
   "metadata": {},
   "outputs": [],
   "source": [
    "# Here, the data are split into a training and a test set. This ensures that the accuracy of the classifier can be deduced- #\n",
    "# The classifier is trained only with the training set, and is later tested with the testing set. #\n",
    "# The numbers are chosen to split the data, approximately, into two equal halves. #\n",
    "\n",
    "test_set = clean.take(range(0, clean.num_rows // 2))\n",
    "train_set = clean.take(range(clean.num_rows // 2, clean.num_rows))"
   ]
  },
  {
   "cell_type": "code",
   "execution_count": 40,
   "metadata": {},
   "outputs": [],
   "source": [
    "def table_to_int(table):\n",
    "    \"\"\"Returns a copy of table with all of its values converted to integers.\"\"\"\n",
    "\n",
    "    cols = table.labels\n",
    "    new = table\n",
    "    for col in cols:\n",
    "        arr = np.array(table.column(col)).astype(int)\n",
    "        new = new.with_column(col, arr)\n",
    "    return new"
   ]
  },
  {
   "cell_type": "code",
   "execution_count": 41,
   "metadata": {},
   "outputs": [],
   "source": [
    "# This is necessary since in the original table, numerical values for symptoms (0/1) were entered as strings; #\n",
    "# To compute distances between points, strings must be converted to numbers #\n",
    "\n",
    "train_set = table_to_int(train_set)\n",
    "test_set = table_to_int(test_set)"
   ]
  },
  {
   "cell_type": "code",
   "execution_count": 42,
   "metadata": {},
   "outputs": [],
   "source": [
    "def distance(new_data_point, training_data_table):\n",
    "    \"\"\"Returns a copy of the training data table, along with the Euclidian distances from the new data point to each point in the set.\"\"\"\n",
    "    distances = make_array()\n",
    "    table_without_results = training_data_table.drop('corona_result')\n",
    "    for i in range(training_data_table.num_rows):\n",
    "        row_array = np.array(table_without_results.row(i))\n",
    "        distance = np.sqrt(sum((row_array - new_data_point) ** 2))\n",
    "        distances = np.append(distances, distance)\n",
    "    return training_data_table.with_column('distances', distances)"
   ]
  },
  {
   "cell_type": "code",
   "execution_count": 43,
   "metadata": {},
   "outputs": [],
   "source": [
    "def k_nearest_neighbours(new_data_point, k):\n",
    "    \"\"\" Returns the 'k' nearest neighbours of a new data point in the training set \"\"\"\n",
    "    \n",
    "    neighbours = distance(new_data_point, train_set)\n",
    "    sorted_neighbours = neighbours.sort('distances',descending=False)\n",
    "    k_sorted_neighbours = sorted_neighbours.take(range(k))\n",
    "    return k_sorted_neighbours"
   ]
  },
  {
   "cell_type": "code",
   "execution_count": 44,
   "metadata": {},
   "outputs": [],
   "source": [
    "def classify(new_data_point, k):\n",
    "    \"\"\"Returns the result (positive/nagative) of classifying one new data point using 'k' nearest neighbours.\"\"\"\n",
    "    \n",
    "    nn = k_nearest_neighbours(new_data_point, k)\n",
    "    results = nn.select('corona_result')\n",
    "    counts = results.group('corona_result')\n",
    "    sorted_counts = counts.sort('count', descending=True)\n",
    "    result_key = sorted_counts.column(0).item(0)\n",
    "    if result_key == 0:\n",
    "        return 'NEGATIVE'\n",
    "    return 'POSITIVE'"
   ]
  },
  {
   "cell_type": "code",
   "execution_count": 50,
   "metadata": {},
   "outputs": [],
   "source": [
    "def accuracy(k=5, n=10):\n",
    "    \"\"\"Returns the accuracy (%) of the classifier with 'k' nearest neighbours, using 'n' members of the test set.\"\"\"\n",
    "    # Default values for k, n were chosen to accomodate lengthy processing times. #\n",
    "\n",
    "    test_set_without_results = test_set.drop('corona_result').take(range(n)) \n",
    "    predictions = make_array()\n",
    "\n",
    "    for i in range(n):\n",
    "        prediction_string = classify(np.array(test_set_without_results.row(i)), k)\n",
    "        if prediction_string == 'NEGATIVE':\n",
    "            prediction_binary = 0\n",
    "        else:\n",
    "            prediction_binary = 1\n",
    "        predictions = np.append(predictions, prediction_binary)\n",
    "\n",
    "    comparison_table = test_set.take(range(n)).with_column('predicted_corona_result', predictions)\n",
    "    correct_guesses = sum(comparison_table.column('predicted_corona_result') == comparison_table.column('corona_result'))\n",
    "    return (correct_guesses / comparison_table.num_rows) * 100"
   ]
  },
  {
   "cell_type": "code",
   "execution_count": 52,
   "metadata": {},
   "outputs": [
    {
     "output_type": "stream",
     "name": "stdout",
     "text": [
      "92.80000000000001\n"
     ]
    }
   ],
   "source": [
    "# The classifier is 92.8% accurate when using 5 nearest neighbours with 1000 members of the testing set. #\n",
    "print(accuracy(5, 1000))"
   ]
  }
 ],
 "metadata": {
  "kernelspec": {
   "name": "python3",
   "display_name": "Python 3",
   "language": "python"
  },
  "language_info": {
   "codemirror_mode": {
    "name": "ipython",
    "version": 3
   },
   "file_extension": ".py",
   "mimetype": "text/x-python",
   "name": "python",
   "nbconvert_exporter": "python",
   "pygments_lexer": "ipython3",
   "version": "3.8.5"
  }
 },
 "nbformat": 4,
 "nbformat_minor": 4
}
